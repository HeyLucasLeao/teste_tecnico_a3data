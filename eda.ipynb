{
 "cells": [
  {
   "cell_type": "code",
   "execution_count": 1,
   "id": "283e94a5",
   "metadata": {},
   "outputs": [
    {
     "name": "stderr",
     "output_type": "stream",
     "text": [
      "/home/heylucasleao/miniconda3/envs/a3data/lib/python3.11/site-packages/tqdm/auto.py:21: TqdmWarning: IProgress not found. Please update jupyter and ipywidgets. See https://ipywidgets.readthedocs.io/en/stable/user_install.html\n",
      "  from .autonotebook import tqdm as notebook_tqdm\n"
     ]
    }
   ],
   "source": [
    "import os\n",
    "from langchain_huggingface import HuggingFaceEmbeddings, HuggingFacePipeline\n",
    "from langchain.document_loaders import PyPDFLoader\n",
    "from langchain.text_splitter import RecursiveCharacterTextSplitter\n",
    "from transformers import (\n",
    "    AutoTokenizer, \n",
    "    AutoModelForSeq2SeqLM, \n",
    "    pipeline\n",
    ")\n",
    "from langchain.chains.combine_documents import create_stuff_documents_chain\n",
    "from langchain.chains import create_retrieval_chain\n",
    "from langchain.prompts import PromptTemplate\n",
    "from langchain_community.vectorstores import FAISS"
   ]
  },
  {
   "cell_type": "markdown",
   "id": "30e52e49",
   "metadata": {},
   "source": [
    "# Coleta e Preparação de Texto"
   ]
  },
  {
   "cell_type": "code",
   "execution_count": 2,
   "id": "390e67fc",
   "metadata": {},
   "outputs": [],
   "source": [
    "def load_documents(directory_path):\n",
    "    files = os.listdir(directory_path)\n",
    "    loaders = [PyPDFLoader(os.path.join(directory_path, f)) for f in files]\n",
    "    documents = []\n",
    "    for loader in loaders:\n",
    "        documents.extend(loader.load())\n",
    "\n",
    "    return documents\n",
    "\n",
    "def process_reports(documents):\n",
    "    text_splitter = RecursiveCharacterTextSplitter(\n",
    "        chunk_size=1000,\n",
    "        chunk_overlap=200,\n",
    "        length_function=len\n",
    "    )\n",
    "    return text_splitter.split_documents(documents)\n",
    "\n",
    "\n",
    "def vector_store_in_memory(documents):\n",
    "    embeddings = HuggingFaceEmbeddings(\n",
    "        model_name=\"sentence-transformers/all-distilroberta-v1\",\n",
    "        model_kwargs={'device': 'cpu'},\n",
    "        encode_kwargs={'normalize_embeddings': True}\n",
    "    )\n",
    "    \n",
    "    vector_store = FAISS.from_documents(documents, embeddings)\n",
    "    \n",
    "    return vector_store"
   ]
  },
  {
   "cell_type": "code",
   "execution_count": 3,
   "id": "7813de52",
   "metadata": {},
   "outputs": [],
   "source": [
    "path_folder = \"./data\"\n",
    "documents = load_documents(path_folder)\n",
    "splitted_docs = process_reports(documents)\n",
    "vector_store = vector_store_in_memory(splitted_docs)"
   ]
  },
  {
   "cell_type": "markdown",
   "id": "0ee3a86c",
   "metadata": {},
   "source": [
    "# Criação de modelinho com QA"
   ]
  },
  {
   "cell_type": "code",
   "execution_count": 37,
   "id": "6e3bb020",
   "metadata": {},
   "outputs": [
    {
     "name": "stderr",
     "output_type": "stream",
     "text": [
      "Device set to use cuda:0\n"
     ]
    }
   ],
   "source": [
    "def setup_local_llm():\n",
    "    model_id = \"google/flan-t5-small\"\n",
    "    tokenizer = AutoTokenizer.from_pretrained(model_id)\n",
    "    model = AutoModelForSeq2SeqLM.from_pretrained(model_id)\n",
    "\n",
    "    pipe = pipeline(\n",
    "        \"text2text-generation\",\n",
    "        model=model,\n",
    "        tokenizer=tokenizer,\n",
    "    )\n",
    "    \n",
    "    return HuggingFacePipeline(pipeline=pipe)\n",
    "\n",
    "class EpidemiologicalAssistant:\n",
    "    def __init__(self, vector_store=None):\n",
    "        self.llm = setup_local_llm()\n",
    "        self.vector_store = vector_store\n",
    "        self.qa_chain = None\n",
    "        \n",
    "        if vector_store:\n",
    "            self.setup_assistant(vector_store)\n",
    "    \n",
    "    def setup_assistant(self, vector_store):\n",
    "        self.vector_store = vector_store\n",
    "        \n",
    "        custom_prompt = PromptTemplate(\n",
    "            template=\"\"\"\n",
    "            As an EU epidemiological expert, analyze this data to answer the question precisely.\n",
    "\n",
    "            DATA: {context}\n",
    "\n",
    "            QUESTION: {input}\n",
    "            \"\"\",\n",
    "            input_variables=[\"context\", \"input\"]\n",
    "        )\n",
    "        \n",
    "        \n",
    "        combine_docs_chain = create_stuff_documents_chain(\n",
    "            self.llm, \n",
    "            custom_prompt\n",
    "        )\n",
    "        \n",
    "        self.retrieval_chain = create_retrieval_chain(\n",
    "            self.vector_store.as_retriever(),\n",
    "            combine_docs_chain\n",
    "        )\n",
    "    \n",
    "    def ask_question(self, question):\n",
    "        return self.retrieval_chain.invoke({\"input\": question})\n",
    "\n",
    "\n",
    "assistant = EpidemiologicalAssistant(vector_store)"
   ]
  },
  {
   "cell_type": "code",
   "execution_count": 42,
   "id": "9108e6fb",
   "metadata": {},
   "outputs": [
    {
     "data": {
      "text/plain": [
       "{'input': 'For syphilis, how much cases were confirmed in 2021?',\n",
       " 'context': [Document(id='a878b35d-6f95-423b-9170-321181d7309d', metadata={'producer': 'Adobe PDF Library 23.6.136', 'creator': 'Acrobat PDFMaker 23 for Word', 'creationdate': '2023-10-20T09:07:48+02:00', 'author': 'ECDC', 'classificationcontentmarkingheaderfontprops': '#000000,10,Calibri', 'classificationcontentmarkingheadershapeids': '27e81e29,323c0725,1,2,5', 'classificationcontentmarkingheadertext': 'ECDC NORMAL', 'comments': '', 'company': '', 'contenttypeid': '0x010100EE95EE7DB3A482488E68FA4A7091999F00E9E88A449575E24AAD017D04A46B9265', 'dms product': '', 'ecdc_dms_communication_document_type': '1241;#first edit|80850886-251b-4f02-9aa9-b2af2dccb954', 'ecdc_dms_country': '', 'ecdc_dms_general_administration_document_type': '8455;#Report|ecbd77ad-3760-4178-a0ff-1df458fa4e60', 'ecdc_dms_mis_activity_code': '', 'ecdc_dms_organigramme': '1159;#Surveillance|e245debe-c0a6-469f-b09a-56488ff7aacd', 'ecdc_dms_organization': '', 'ecdc_dms_project': '', 'ecdc_dms_surveillance_document_type': '1642;#Surveillance report|13ae35bd-d059-437c-89dd-6ccc964adadc', 'ecdc_sarms_activity0': '', 'ecdc_sarms_actor0': '', 'ecdc_sarms_document_topic': '155;#Chlamydia infection|52946627-9768-457f-8b10-23b6a4dfce7a', 'ecdc_sarms_document_topic0': 'Chlamydia infection|52946627-9768-457f-8b10-23b6a4dfce7a', 'ecdc_sarms_document_type': '65', 'ecdc_sarms_document_type0': 'Annual Epidemiological Report, Disease Chapter|0b2e5f0d-9401-406a-86ad-4d6d1077e3de', 'ecdc_sarms_language0': '', 'ecdc_sarms_organisation': '144', 'ecdc_sarms_organisation0': 'HSH|2a617a45-fa40-46ad-913e-e6670e222fed', 'ecdc_subject_does': '', 'ecdc_subject_what': '317;#Chlamydia|7cab2ff7-fc87-4218-8a2e-d8f50cf0ff67', 'ecdc_subject_who': '', 'ecdc_target_audience': '', 'ecmx_categorylabel': '', 'ecmx_diseasepathogen': '', 'ecmx_documentstatus': '1;#Draft|bed60e9a-f1b8-4691-a7e2-534f78067ff3', 'ecmx_documenttype': '', 'ecmx_entity': '', 'ecmx_lifecycle': '2;#Active|50127695-0d4f-4ac1-ab93-ebc716c3e584', 'keywords': 'syphilis; sexually transmitted infections; STIs', 'mediaserviceimagetags': '', 'meeting code': '', 'moddate': '2023-10-20T09:13:32+02:00', 'sarms document format': 'Main output', 'sarms document type': 'Annual Epidemiological Report, Disease Chapter', 'sourcemodified': '', 'subject': 'syphilis', 'taxkeyword': '', 'title': 'Syphilis - Annual Epidemiological Report 2021', '_dlc_docid': 'DOI1004-1414929164-634', '_dlc_dociditemguid': 'a8d461d1-09b3-4128-b967-63b44c213aa2', '_dlc_docidurl': 'http://dms.ecdcnet.europa.eu/sites/phc/externalcomms/publications/_layouts/15/DocIdRedir.aspx?ID=DOI1004-1414929164-634, DOI1004-1414929164-634', 'lcf76f155ced4ddcb4097134ff3c332f': '', 'source': './data/syphilis-annual-epidemiological-report-2021.pdf', 'total_pages': 10, 'page': 6, 'page_label': '7'}, page_content='SURVEILLANCE REPORT Annual epidemiological report for 2021 \\n \\n \\n7 \\n \\n \\nin 2020 than in 2019 (Cyprus, Czechia, Denmark, Luxembourg, Netherlands, Norway, Portugal and Sweden), with \\nincreases of more than 25% in Cyprus, Luxembourg, Norway and Portugal.   \\nIn 2021, compared with 2020, the number of syphilis cases increased in 16 and decreased in 9 of the 25 countries \\nwith available data. Increases of 25% or more were reported in Belgium, Croatia, Cyprus, Denmark, Greece, \\nIceland, Poland and Slovakia. Together, these countries accounted for 20% of all syphilis cases notified in 2021. \\nDecreases of more than 25% were reported in Latvia and Norway, two countries that accounted for only 1% of \\nsyphilis cases notified that year. Changes between -25% and +25% were reported in Bulgaria, Czechia, Estonia, \\nFinland, Germany, Hungary, Ireland, Luxembourg, the Netherlands, Portugal, Romania, Slovenia, Spain and'),\n",
       "  Document(id='d3fb025f-1171-45a3-a908-c7e0c9779884', metadata={'producer': 'Adobe PDF Library 23.6.136', 'creator': 'Acrobat PDFMaker 23 for Word', 'creationdate': '2023-10-20T09:07:48+02:00', 'author': 'ECDC', 'classificationcontentmarkingheaderfontprops': '#000000,10,Calibri', 'classificationcontentmarkingheadershapeids': '27e81e29,323c0725,1,2,5', 'classificationcontentmarkingheadertext': 'ECDC NORMAL', 'comments': '', 'company': '', 'contenttypeid': '0x010100EE95EE7DB3A482488E68FA4A7091999F00E9E88A449575E24AAD017D04A46B9265', 'dms product': '', 'ecdc_dms_communication_document_type': '1241;#first edit|80850886-251b-4f02-9aa9-b2af2dccb954', 'ecdc_dms_country': '', 'ecdc_dms_general_administration_document_type': '8455;#Report|ecbd77ad-3760-4178-a0ff-1df458fa4e60', 'ecdc_dms_mis_activity_code': '', 'ecdc_dms_organigramme': '1159;#Surveillance|e245debe-c0a6-469f-b09a-56488ff7aacd', 'ecdc_dms_organization': '', 'ecdc_dms_project': '', 'ecdc_dms_surveillance_document_type': '1642;#Surveillance report|13ae35bd-d059-437c-89dd-6ccc964adadc', 'ecdc_sarms_activity0': '', 'ecdc_sarms_actor0': '', 'ecdc_sarms_document_topic': '155;#Chlamydia infection|52946627-9768-457f-8b10-23b6a4dfce7a', 'ecdc_sarms_document_topic0': 'Chlamydia infection|52946627-9768-457f-8b10-23b6a4dfce7a', 'ecdc_sarms_document_type': '65', 'ecdc_sarms_document_type0': 'Annual Epidemiological Report, Disease Chapter|0b2e5f0d-9401-406a-86ad-4d6d1077e3de', 'ecdc_sarms_language0': '', 'ecdc_sarms_organisation': '144', 'ecdc_sarms_organisation0': 'HSH|2a617a45-fa40-46ad-913e-e6670e222fed', 'ecdc_subject_does': '', 'ecdc_subject_what': '317;#Chlamydia|7cab2ff7-fc87-4218-8a2e-d8f50cf0ff67', 'ecdc_subject_who': '', 'ecdc_target_audience': '', 'ecmx_categorylabel': '', 'ecmx_diseasepathogen': '', 'ecmx_documentstatus': '1;#Draft|bed60e9a-f1b8-4691-a7e2-534f78067ff3', 'ecmx_documenttype': '', 'ecmx_entity': '', 'ecmx_lifecycle': '2;#Active|50127695-0d4f-4ac1-ab93-ebc716c3e584', 'keywords': 'syphilis; sexually transmitted infections; STIs', 'mediaserviceimagetags': '', 'meeting code': '', 'moddate': '2023-10-20T09:13:32+02:00', 'sarms document format': 'Main output', 'sarms document type': 'Annual Epidemiological Report, Disease Chapter', 'sourcemodified': '', 'subject': 'syphilis', 'taxkeyword': '', 'title': 'Syphilis - Annual Epidemiological Report 2021', '_dlc_docid': 'DOI1004-1414929164-634', '_dlc_dociditemguid': 'a8d461d1-09b3-4128-b967-63b44c213aa2', '_dlc_docidurl': 'http://dms.ecdcnet.europa.eu/sites/phc/externalcomms/publications/_layouts/15/DocIdRedir.aspx?ID=DOI1004-1414929164-634, DOI1004-1414929164-634', 'lcf76f155ced4ddcb4097134ff3c332f': '', 'source': './data/syphilis-annual-epidemiological-report-2021.pdf', 'total_pages': 10, 'page': 5, 'page_label': '6'}, page_content='latent (35%) infections. Fewer cases were reported as latent (7%) or late latent (5%) infections. Distribution \\nacross countries varied. In France, Greece, Norway, Portugal and Slovenia, more than half of reported cases had \\nprimary or secondary syphilis. In Cyprus, Estonia, Luxembourg and Portugal, more early latent syphilis cases were \\nreported than primary and secondary syphilis cases. \\nTrends, 2012–2021 \\nBetween 2012 and 2021, 230 922 cases of syphilis were reported in 30 EU/EEA countries. During this period, \\n27 countries consistently reported data. In addition, Austria reported data for 2012 to 2013 and Italy reported data \\nfor 2012 to 2020. Liechtenstein reported data for 2020 and 2021. \\nWhen considering cases from countries with comprehensive surveillance that reported consistently between 2012 and \\n2021, notification rates of syphilis infections per 100 000 population increased continuously until 2019, when they'),\n",
       "  Document(id='26d82c30-8592-49df-976c-eaaf0926ac56', metadata={'producer': 'Adobe PDF Library 23.6.136', 'creator': 'Acrobat PDFMaker 23 for Word', 'creationdate': '2023-10-20T09:07:48+02:00', 'author': 'ECDC', 'classificationcontentmarkingheaderfontprops': '#000000,10,Calibri', 'classificationcontentmarkingheadershapeids': '27e81e29,323c0725,1,2,5', 'classificationcontentmarkingheadertext': 'ECDC NORMAL', 'comments': '', 'company': '', 'contenttypeid': '0x010100EE95EE7DB3A482488E68FA4A7091999F00E9E88A449575E24AAD017D04A46B9265', 'dms product': '', 'ecdc_dms_communication_document_type': '1241;#first edit|80850886-251b-4f02-9aa9-b2af2dccb954', 'ecdc_dms_country': '', 'ecdc_dms_general_administration_document_type': '8455;#Report|ecbd77ad-3760-4178-a0ff-1df458fa4e60', 'ecdc_dms_mis_activity_code': '', 'ecdc_dms_organigramme': '1159;#Surveillance|e245debe-c0a6-469f-b09a-56488ff7aacd', 'ecdc_dms_organization': '', 'ecdc_dms_project': '', 'ecdc_dms_surveillance_document_type': '1642;#Surveillance report|13ae35bd-d059-437c-89dd-6ccc964adadc', 'ecdc_sarms_activity0': '', 'ecdc_sarms_actor0': '', 'ecdc_sarms_document_topic': '155;#Chlamydia infection|52946627-9768-457f-8b10-23b6a4dfce7a', 'ecdc_sarms_document_topic0': 'Chlamydia infection|52946627-9768-457f-8b10-23b6a4dfce7a', 'ecdc_sarms_document_type': '65', 'ecdc_sarms_document_type0': 'Annual Epidemiological Report, Disease Chapter|0b2e5f0d-9401-406a-86ad-4d6d1077e3de', 'ecdc_sarms_language0': '', 'ecdc_sarms_organisation': '144', 'ecdc_sarms_organisation0': 'HSH|2a617a45-fa40-46ad-913e-e6670e222fed', 'ecdc_subject_does': '', 'ecdc_subject_what': '317;#Chlamydia|7cab2ff7-fc87-4218-8a2e-d8f50cf0ff67', 'ecdc_subject_who': '', 'ecdc_target_audience': '', 'ecmx_categorylabel': '', 'ecmx_diseasepathogen': '', 'ecmx_documentstatus': '1;#Draft|bed60e9a-f1b8-4691-a7e2-534f78067ff3', 'ecmx_documenttype': '', 'ecmx_entity': '', 'ecmx_lifecycle': '2;#Active|50127695-0d4f-4ac1-ab93-ebc716c3e584', 'keywords': 'syphilis; sexually transmitted infections; STIs', 'mediaserviceimagetags': '', 'meeting code': '', 'moddate': '2023-10-20T09:13:32+02:00', 'sarms document format': 'Main output', 'sarms document type': 'Annual Epidemiological Report, Disease Chapter', 'sourcemodified': '', 'subject': 'syphilis', 'taxkeyword': '', 'title': 'Syphilis - Annual Epidemiological Report 2021', '_dlc_docid': 'DOI1004-1414929164-634', '_dlc_dociditemguid': 'a8d461d1-09b3-4128-b967-63b44c213aa2', '_dlc_docidurl': 'http://dms.ecdcnet.europa.eu/sites/phc/externalcomms/publications/_layouts/15/DocIdRedir.aspx?ID=DOI1004-1414929164-634, DOI1004-1414929164-634', 'lcf76f155ced4ddcb4097134ff3c332f': '', 'source': './data/syphilis-annual-epidemiological-report-2021.pdf', 'total_pages': 10, 'page': 5, 'page_label': '6'}, page_content='Annual epidemiological report for 2021 SURVEILLANCE REPORT \\n \\n \\n6 \\n \\n \\nFigure 3. Distribution of confirmed syphilis cases per 100 000 population, by age and gender, EU/EEA, 2021 \\n \\nTransmission, HIV status and syphilis stage \\nFor 2021, 16 countries reported information on transmission category for more than 60% of their cases. These \\ncases accounted for 58% (n = 14 564) of all reported syphilis cases. Among these cases, transmission category \\nwas indicated as MSM (66%), heterosexual (19%; males: 12% and females: 7%) and unknown (15%). If cases \\nwith unknown transmission category were excluded, 77% of syphilis cases were among MSM. The percentage of \\ncases diagnosed in MSM ranged from 31% or fewer (Latvia, Romania and Slovakia) to more than 75% (Denmark, \\nFrance, Germany, Greece, Malta, the Netherlands, Norway and Sweden). \\nFor 2021, information on HIV co-infection status was reported by 17 countries, accounting for 35% (n = 8 861) of'),\n",
       "  Document(id='23212462-b28d-4c03-a724-84b77d4e5af2', metadata={'producer': 'Adobe PDF Library 23.6.136', 'creator': 'Acrobat PDFMaker 23 for Word', 'creationdate': '2023-10-20T09:07:48+02:00', 'author': 'ECDC', 'classificationcontentmarkingheaderfontprops': '#000000,10,Calibri', 'classificationcontentmarkingheadershapeids': '27e81e29,323c0725,1,2,5', 'classificationcontentmarkingheadertext': 'ECDC NORMAL', 'comments': '', 'company': '', 'contenttypeid': '0x010100EE95EE7DB3A482488E68FA4A7091999F00E9E88A449575E24AAD017D04A46B9265', 'dms product': '', 'ecdc_dms_communication_document_type': '1241;#first edit|80850886-251b-4f02-9aa9-b2af2dccb954', 'ecdc_dms_country': '', 'ecdc_dms_general_administration_document_type': '8455;#Report|ecbd77ad-3760-4178-a0ff-1df458fa4e60', 'ecdc_dms_mis_activity_code': '', 'ecdc_dms_organigramme': '1159;#Surveillance|e245debe-c0a6-469f-b09a-56488ff7aacd', 'ecdc_dms_organization': '', 'ecdc_dms_project': '', 'ecdc_dms_surveillance_document_type': '1642;#Surveillance report|13ae35bd-d059-437c-89dd-6ccc964adadc', 'ecdc_sarms_activity0': '', 'ecdc_sarms_actor0': '', 'ecdc_sarms_document_topic': '155;#Chlamydia infection|52946627-9768-457f-8b10-23b6a4dfce7a', 'ecdc_sarms_document_topic0': 'Chlamydia infection|52946627-9768-457f-8b10-23b6a4dfce7a', 'ecdc_sarms_document_type': '65', 'ecdc_sarms_document_type0': 'Annual Epidemiological Report, Disease Chapter|0b2e5f0d-9401-406a-86ad-4d6d1077e3de', 'ecdc_sarms_language0': '', 'ecdc_sarms_organisation': '144', 'ecdc_sarms_organisation0': 'HSH|2a617a45-fa40-46ad-913e-e6670e222fed', 'ecdc_subject_does': '', 'ecdc_subject_what': '317;#Chlamydia|7cab2ff7-fc87-4218-8a2e-d8f50cf0ff67', 'ecdc_subject_who': '', 'ecdc_target_audience': '', 'ecmx_categorylabel': '', 'ecmx_diseasepathogen': '', 'ecmx_documentstatus': '1;#Draft|bed60e9a-f1b8-4691-a7e2-534f78067ff3', 'ecmx_documenttype': '', 'ecmx_entity': '', 'ecmx_lifecycle': '2;#Active|50127695-0d4f-4ac1-ab93-ebc716c3e584', 'keywords': 'syphilis; sexually transmitted infections; STIs', 'mediaserviceimagetags': '', 'meeting code': '', 'moddate': '2023-10-20T09:13:32+02:00', 'sarms document format': 'Main output', 'sarms document type': 'Annual Epidemiological Report, Disease Chapter', 'sourcemodified': '', 'subject': 'syphilis', 'taxkeyword': '', 'title': 'Syphilis - Annual Epidemiological Report 2021', '_dlc_docid': 'DOI1004-1414929164-634', '_dlc_dociditemguid': 'a8d461d1-09b3-4128-b967-63b44c213aa2', '_dlc_docidurl': 'http://dms.ecdcnet.europa.eu/sites/phc/externalcomms/publications/_layouts/15/DocIdRedir.aspx?ID=DOI1004-1414929164-634, DOI1004-1414929164-634', 'lcf76f155ced4ddcb4097134ff3c332f': '', 'source': './data/syphilis-annual-epidemiological-report-2021.pdf', 'total_pages': 10, 'page': 7, 'page_label': '8'}, page_content='Annual epidemiological report for 2021 SURVEILLANCE REPORT \\n \\n \\n8 \\n \\n \\nFigure 5. Number of confirmed syphilis cases by gender, transmission category and year in EU/EEA \\ncountries reporting consistently, 2012–2021 \\n \\nSource: Country reports from Czechia, France, Germany, Greece, Latvia, the Netherlands, Norway, Romania, Slovakia, Slovenia and Sweden \\nHETERO_F: heterosexual female; HETERO_M: heterosexual male; MSM: men who have sex with men.  \\nOutbreaks and other threats \\nIn addition to reporting data to TESSy, EU/EEA countries can report events and significant threats to public health \\nin the EU/EEA in real time through the ECDC platform EpiPulse [7]. There were no alerts or events related to \\nsyphilis reported in 2020 or 2021. \\nDiscussion \\nBetween 2012 and 2021, more then 230 000 syphilis cases were reported in the EU/EEA. The number of annual \\nnotifications from EU/EEA countries with available data increased continuously between 2012 and 2019, and')],\n",
       " 'answer': '230 922 cases of syphilis were reported in 30 EU/EEA countries'}"
      ]
     },
     "execution_count": 42,
     "metadata": {},
     "output_type": "execute_result"
    }
   ],
   "source": [
    "assistant.ask_question(\"For syphilis, how much cases were confirmed in 2021?\")"
   ]
  }
 ],
 "metadata": {
  "kernelspec": {
   "display_name": "a3data",
   "language": "python",
   "name": "python3"
  },
  "language_info": {
   "codemirror_mode": {
    "name": "ipython",
    "version": 3
   },
   "file_extension": ".py",
   "mimetype": "text/x-python",
   "name": "python",
   "nbconvert_exporter": "python",
   "pygments_lexer": "ipython3",
   "version": "3.11.13"
  }
 },
 "nbformat": 4,
 "nbformat_minor": 5
}
