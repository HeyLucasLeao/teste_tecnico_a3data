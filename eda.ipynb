{
 "cells": [
  {
   "cell_type": "code",
   "execution_count": 51,
   "id": "283e94a5",
   "metadata": {},
   "outputs": [],
   "source": [
    "import os\n",
    "from langchain_huggingface import HuggingFaceEmbeddings, HuggingFacePipeline\n",
    "from langchain.document_loaders import PyPDFLoader\n",
    "from transformers import (\n",
    "    AutoTokenizer, \n",
    "    AutoModelForSeq2SeqLM, \n",
    "    pipeline\n",
    ")\n",
    "from langchain.chains.combine_documents import create_stuff_documents_chain\n",
    "from langchain.chains import create_retrieval_chain\n",
    "from langchain.prompts import PromptTemplate\n",
    "from langchain_community.vectorstores import FAISS\n",
    "import re\n",
    "from langchain.text_splitter import TokenTextSplitter"
   ]
  },
  {
   "cell_type": "code",
   "execution_count": 52,
   "id": "390e67fc",
   "metadata": {},
   "outputs": [],
   "source": [
    "def do_preprocessing(text: str):\n",
    "    def _strip_multiple_whitespaces(s):\n",
    "        re_whitespace = re.compile(r\"(\\s)+\", re.UNICODE)\n",
    "        return re_whitespace.sub(\" \", s)\n",
    "\n",
    "\n",
    "    pipeline = [\n",
    "            _strip_multiple_whitespaces,\n",
    "            str.strip,\n",
    "        ]\n",
    "    for filter in pipeline:\n",
    "        text = filter(text)\n",
    "\n",
    "    return text\n",
    "\n",
    "def load_documents(directory_path):\n",
    "    files = os.listdir(directory_path)\n",
    "    loaders = [PyPDFLoader(os.path.join(directory_path, f)) for f in files]\n",
    "    documents = []\n",
    "    for loader in loaders:\n",
    "        loaded_docs = loader.load()\n",
    "        for doc in loaded_docs:\n",
    "            doc.page_content = do_preprocessing(doc.page_content)\n",
    "        documents.extend(loaded_docs)\n",
    "\n",
    "    return documents\n",
    "\n",
    "\n",
    "def process_reports(documents):\n",
    "    text_splitter = TokenTextSplitter(\n",
    "        chunk_size=400, \n",
    "        chunk_overlap=100,\n",
    "        encoding_name=\"cl100k_base\" \n",
    "    )\n",
    "    return text_splitter.split_documents(documents)\n",
    "\n",
    "def vector_store_in_memory(documents):\n",
    "    embeddings = HuggingFaceEmbeddings(\n",
    "        model_name=\"sentence-transformers/all-distilroberta-v1\",\n",
    "        model_kwargs={'device': 'cpu'},\n",
    "        encode_kwargs={'normalize_embeddings': True}\n",
    "    )\n",
    "    \n",
    "    vector_store = FAISS.from_documents(documents, embeddings)\n",
    "    \n",
    "    return vector_store\n",
    "\n",
    "def setup_local_llm():\n",
    "    model_id = \"google/flan-t5-base\"\n",
    "    tokenizer = AutoTokenizer.from_pretrained(model_id)\n",
    "    model = AutoModelForSeq2SeqLM.from_pretrained(model_id)\n",
    "\n",
    "    pipe = pipeline(\n",
    "        \"text2text-generation\",\n",
    "        model=model,\n",
    "        tokenizer=tokenizer,\n",
    "    )\n",
    "    \n",
    "    return HuggingFacePipeline(pipeline=pipe)\n",
    "\n",
    "class EpidemiologicalAssistant:\n",
    "    def __init__(self, vector_store=None):\n",
    "        self.llm = setup_local_llm()\n",
    "        self.vector_store = vector_store\n",
    "        self.qa_chain = None\n",
    "        \n",
    "        if vector_store:\n",
    "            self.setup_assistant(vector_store)\n",
    "    \n",
    "    def setup_assistant(self, vector_store):\n",
    "        self.vector_store = vector_store\n",
    "        \n",
    "        custom_prompt = PromptTemplate(\n",
    "            template=\"\"\"\n",
    "            As an EU epidemiological expert, analyze this data to answer the question precisely.\n",
    "\n",
    "            DATA: {context}\n",
    "\n",
    "            QUESTION: {input}\n",
    "            \"\"\",\n",
    "            input_variables=[\"context\", \"input\"]\n",
    "        )\n",
    "        \n",
    "        \n",
    "        combine_docs_chain = create_stuff_documents_chain(\n",
    "            self.llm, \n",
    "            custom_prompt\n",
    "        )\n",
    "        \n",
    "        self.retrieval_chain = create_retrieval_chain(\n",
    "            self.vector_store.as_retriever(search_type=\"mmr\", \n",
    "        search_kwargs={\"k\": 5, \"fetch_k\": 10}),\n",
    "            combine_docs_chain\n",
    "        )\n",
    "    \n",
    "    def ask_question(self, question):\n",
    "        question = do_preprocessing(question)\n",
    "        return self.retrieval_chain.invoke({\"input\": question}).get(\"answer\")\n"
   ]
  },
  {
   "cell_type": "code",
   "execution_count": 53,
   "id": "13b0b9f0",
   "metadata": {},
   "outputs": [
    {
     "name": "stderr",
     "output_type": "stream",
     "text": [
      "Device set to use cuda:0\n"
     ]
    }
   ],
   "source": [
    "path_folder = \"./data\"\n",
    "documents = load_documents(path_folder)\n",
    "splitted_docs = process_reports(documents)\n",
    "vector_store = vector_store_in_memory(splitted_docs)\n",
    "assistant = EpidemiologicalAssistant(vector_store)"
   ]
  },
  {
   "cell_type": "code",
   "execution_count": 54,
   "id": "9108e6fb",
   "metadata": {},
   "outputs": [
    {
     "name": "stderr",
     "output_type": "stream",
     "text": [
      "Token indices sequence length is longer than the specified maximum sequence length for this model (1855 > 512). Running this sequence through the model will result in indexing errors\n"
     ]
    },
    {
     "data": {
      "text/plain": [
       "'EU/EEA countries reported seven cases of Zika virus disease, five (71%) of which were confirmed, while 22 countries reported no cases. The cases were reported by Spain (n=4), Germany (n=2) and Luxembourg (n= 1) (Table 1, Figure 1).'"
      ]
     },
     "execution_count": 54,
     "metadata": {},
     "output_type": "execute_result"
    }
   ],
   "source": [
    "assistant.ask_question(\"Which epidemiology was used to metrify the cases of zika virus in the report?\")"
   ]
  },
  {
   "cell_type": "code",
   "execution_count": 56,
   "id": "650a9dc2",
   "metadata": {},
   "outputs": [
    {
     "data": {
      "text/plain": [
       "'Syphilis is a sexually transmitted infection (STI) caused by the bacterium Treponema pallidum [1]. Infection can be acquired during sexual activity by direct contact with treponema-rich, open lesions and contaminated secretions from an infected partner. It can also be transmitted from a mother to a baby during pregnancy (congenital syphilis).'"
      ]
     },
     "execution_count": 56,
     "metadata": {},
     "output_type": "execute_result"
    }
   ],
   "source": [
    "assistant.ask_question(\"What is syphillis? What is the key facts about it\")"
   ]
  },
  {
   "cell_type": "code",
   "execution_count": 57,
   "id": "d00b11e2",
   "metadata": {},
   "outputs": [
    {
     "data": {
      "text/plain": [
       "'Syphilis is a sexually transmitted infection (STI) caused by the bacterium Treponema pallidum [1]. Infection can be acquired during sexual activity by direct contact with treponema-rich, open lesions and contaminated secretions from an infected partner. It can also be transmitted from a mother to a baby during pregnancy (congenital syphilis). After an average incubation period of three weeks (range: 10–90 days), a lesion (usually painless) called a ‘chancre’ occurs at the site of infection (primary syphilis). This is followed by a series of eruptions on mucous membranes and skin (secondary syphilis). Untreated infections can become latent. Although latent infections are non-infectious and cannot be transmitted sexually, they may still be passed on to a foetus.'"
      ]
     },
     "execution_count": 57,
     "metadata": {},
     "output_type": "execute_result"
    }
   ],
   "source": [
    "assistant.ask_question(\"Give me the epidemology information about syphillis\")"
   ]
  }
 ],
 "metadata": {
  "kernelspec": {
   "display_name": "a3data",
   "language": "python",
   "name": "python3"
  },
  "language_info": {
   "codemirror_mode": {
    "name": "ipython",
    "version": 3
   },
   "file_extension": ".py",
   "mimetype": "text/x-python",
   "name": "python",
   "nbconvert_exporter": "python",
   "pygments_lexer": "ipython3",
   "version": "3.11.13"
  }
 },
 "nbformat": 4,
 "nbformat_minor": 5
}
